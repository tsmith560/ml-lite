{
 "cells": [
  {
   "cell_type": "code",
   "execution_count": 1,
   "id": "3c8b27eb-705d-40e5-ba54-aa0f2e2ee48e",
   "metadata": {},
   "outputs": [],
   "source": [
    "import pandas as pd"
   ]
  },
  {
   "cell_type": "code",
   "execution_count": 2,
   "id": "e58b530d-e378-4183-b91e-630854e926a3",
   "metadata": {},
   "outputs": [],
   "source": [
    "swag_df = pd.read_csv(\"data/swag.csv\")"
   ]
  },
  {
   "cell_type": "code",
   "execution_count": 3,
   "id": "d188f2eb-417c-4e47-a44f-d2231a0cc600",
   "metadata": {},
   "outputs": [
    {
     "name": "stdout",
     "output_type": "stream",
     "text": [
      "                            name  \\\n",
      "0           Miller Lite Ball Cap   \n",
      "1  Miller Lite Barbecue Utensils   \n",
      "2         Miller Lite Beach Ball   \n",
      "3        Miller Lite Beach Chair   \n",
      "4        Miller Lite Beer Koozie   \n",
      "\n",
      "                                         description  \\\n",
      "0                                 For the basic b’s.   \n",
      "1  These are totally real utensils and not clip art.   \n",
      "2        Try filling it with beer, see what happens.   \n",
      "3                          The throne of good taste.   \n",
      "4          Keeps the beer cold and your grip ironic.   \n",
      "\n",
      "                       tags                                image_path  \n",
      "0      hat, summer, classic      images/swag/miller_lite_ball_cap.jpg  \n",
      "1      grill, bbq, outdoors  images/swag/miller_lite_bbq_utensils.jpg  \n",
      "2       summer, pool, party    images/swag/miller_lite_beach_ball.jpg  \n",
      "3     chill, sand, lake-day   images/swag/miller_lite_beach_chair.jpg  \n",
      "4  koozie, tailgate, summer        images/swag/miller_lite_koozie.jpg  \n"
     ]
    }
   ],
   "source": [
    "print(swag_df.head())"
   ]
  },
  {
   "cell_type": "code",
   "execution_count": 4,
   "id": "647b5037-2340-4a43-a868-313c5e364798",
   "metadata": {},
   "outputs": [],
   "source": [
    "import random"
   ]
  },
  {
   "cell_type": "code",
   "execution_count": 5,
   "id": "54d8325e-5dbc-43ac-b3d2-d49b9aef7119",
   "metadata": {},
   "outputs": [],
   "source": [
    "def recommend_random_swag(df):\n",
    "    item = df.sample(1).iloc[0]\n",
    "    return {\n",
    "        \"name\": item[\"name\"],\n",
    "        \"description\": item[\"description\"],\n",
    "        \"image_path\": item[\"image_path\"]\n",
    "    }"
   ]
  },
  {
   "cell_type": "code",
   "execution_count": 6,
   "id": "ea68c3cd-4d00-419a-8d0f-f48606f288f2",
   "metadata": {},
   "outputs": [
    {
     "name": "stdout",
     "output_type": "stream",
     "text": [
      "{'name': 'Miller Lite Charcoal Grill', 'description': 'Brings the heat — and the hops.', 'image_path': 'images/swag/miller_lite_charcoal_grill.jpg'}\n"
     ]
    }
   ],
   "source": [
    "swag = recommend_random_swag(swag_df)\n",
    "print(swag)"
   ]
  },
  {
   "cell_type": "code",
   "execution_count": 7,
   "id": "79d381e9-ab86-4821-badc-b4dd43efb5d3",
   "metadata": {},
   "outputs": [],
   "source": [
    "beers_df = pd.read_csv(\"data/beers.csv\")"
   ]
  },
  {
   "cell_type": "code",
   "execution_count": 8,
   "id": "1ac28189-79a3-420b-89ec-fa66b2a8f177",
   "metadata": {},
   "outputs": [
    {
     "name": "stdout",
     "output_type": "stream",
     "text": [
      "          name                tagline  \\\n",
      "0  Miller Lite  Porch Slammer Edition   \n",
      "1  Miller Lite          Tailgate Hero   \n",
      "2  Miller Lite       Backyard Glow-Up   \n",
      "3  Miller Lite        Float Trip Fuel   \n",
      "4  Miller Lite     The Breakup Buffer   \n",
      "\n",
      "                                                tags    abv         origin  \n",
      "0                chill,smooth,evening,breeze,relaxed  4.20%  Milwaukee, WI  \n",
      "1                bold,crisp,freedom,parking lot,loud  4.20%  Milwaukee, WI  \n",
      "2          refreshing,minty,lawn chairs,grill,sunset  4.20%  Milwaukee, WI  \n",
      "3          river,waterproof,vibes,tubing,plastic bag  4.20%  Milwaukee, WI  \n",
      "4  easy,uncomplicated,distraction,ice cold,low st...  4.20%  Milwaukee, WI  \n"
     ]
    }
   ],
   "source": [
    "print(beers_df.head())"
   ]
  },
  {
   "cell_type": "code",
   "execution_count": 9,
   "id": "4cb17bac-c688-42bb-8999-a6756c74e46a",
   "metadata": {},
   "outputs": [],
   "source": [
    "import random"
   ]
  },
  {
   "cell_type": "code",
   "execution_count": 10,
   "id": "762a5c9c-4d5f-4640-80e8-71eab1b563a1",
   "metadata": {},
   "outputs": [],
   "source": [
    "def recommend_random_beer(df):\n",
    "    item = df.sample(1).iloc[0]\n",
    "    return {\n",
    "        \"name\": item[\"name\"],\n",
    "        \"tagline\": item[\"tagline\"],\n",
    "        \"abv\": item[\"abv\"],\n",
    "    \t\"origin\": item[\"origin\"]\n",
    "    }"
   ]
  },
  {
   "cell_type": "code",
   "execution_count": 11,
   "id": "54bea5ad-178c-48ec-a767-ddbed5a197aa",
   "metadata": {},
   "outputs": [
    {
     "name": "stdout",
     "output_type": "stream",
     "text": [
      "{'name': 'Miller Lite', 'tagline': 'Mud On Them Tires', 'abv': '4.20%', 'origin': 'Milwaukee, WI'}\n"
     ]
    }
   ],
   "source": [
    "beer = recommend_random_beer(beers_df)\n",
    "print(beer)"
   ]
  },
  {
   "cell_type": "code",
   "execution_count": 12,
   "id": "614e3ee0-a58c-401c-a8b4-8f0e9eb1cacc",
   "metadata": {},
   "outputs": [],
   "source": [
    "songs_df = pd.read_csv(\"data/songs.csv\")"
   ]
  },
  {
   "cell_type": "code",
   "execution_count": 13,
   "id": "189ba6f8-a4c6-4e66-8a47-111509b97013",
   "metadata": {},
   "outputs": [
    {
     "name": "stdout",
     "output_type": "stream",
     "text": [
      "                         title                        artist  \\\n",
      "0    Beer Never Broke My Heart                    Luke Combs   \n",
      "1  It's Five O'Clock Somewhere  Alan Jackson & Jimmy Buffett   \n",
      "2             Drunk on a Plane                Dierks Bentley   \n",
      "3                 Red Solo Cup                    Toby Keith   \n",
      "4               My Kinda Party                  Jason Aldean   \n",
      "\n",
      "                          tags  \\\n",
      "0       beer,heartbreak,anthem   \n",
      "1  escape,alcohol,island vibes   \n",
      "2             sad,funny,travel   \n",
      "3    stupid,party,drunk anthem   \n",
      "4      get down,tailgate,party   \n",
      "\n",
      "                                         spotify_url  \n",
      "0  https://open.spotify.com/track/5y6nVa3GpR3P2JF...  \n",
      "1  https://open.spotify.com/track/1Qrg8KqiBpW07V7...  \n",
      "2  https://open.spotify.com/track/6VbYbcS0lK3bAl6...  \n",
      "3  https://open.spotify.com/track/6fYg2uMw1DsNJlZ...  \n",
      "4  https://open.spotify.com/track/215FCyLSBcXeX0N...  \n"
     ]
    }
   ],
   "source": [
    "print(songs_df.head())"
   ]
  },
  {
   "cell_type": "code",
   "execution_count": 14,
   "id": "d9bd69d4-19f0-4383-8868-dc2d1ed47b3b",
   "metadata": {},
   "outputs": [],
   "source": [
    "import random"
   ]
  },
  {
   "cell_type": "code",
   "execution_count": 15,
   "id": "4d0225c2-3ea8-42dd-9009-c0fffa674071",
   "metadata": {},
   "outputs": [],
   "source": [
    "def recommend_random_song(df):\n",
    "    item = df.sample(1).iloc[0]\n",
    "    return {\n",
    "        \"title\": item[\"title\"],\n",
    "        \"artist\": item[\"artist\"],\n",
    "        \"spotify_url\": item[\"spotify_url\"]\n",
    "    }"
   ]
  },
  {
   "cell_type": "code",
   "execution_count": 16,
   "id": "b44b7f7d-63a7-4d95-a405-365f41780b4e",
   "metadata": {},
   "outputs": [
    {
     "name": "stdout",
     "output_type": "stream",
     "text": [
      "{'title': 'Buy Me a Boat', 'artist': 'Chris Janson', 'spotify_url': 'https://open.spotify.com/track/1F1mL0vd2o9CAbp2BB4Pl5'}\n"
     ]
    }
   ],
   "source": [
    "song = recommend_random_song(songs_df)\n",
    "print(song)"
   ]
  },
  {
   "cell_type": "code",
   "execution_count": 17,
   "id": "1ff739a9-059d-4b53-8306-4f8ccf13c280",
   "metadata": {},
   "outputs": [],
   "source": [
    "from src.recommender import (\n",
    "    recommend_random_beer,\n",
    "    recommend_random_swag,\n",
    "    recommend_random_song\n",
    ")\n",
    "\n",
    "def generate_miller_moment(beer_df, swag_df, song_df):\n",
    "    beer = recommend_random_beer(beers_df)\n",
    "    swag = recommend_random_swag(swag_df)\n",
    "    song = recommend_random_song(songs_df)\n",
    "\n",
    "    moment = {\n",
    "        \"beer\": beer,\n",
    "        \"swag\": swag,\n",
    "        \"song\": song\n",
    "    }\n",
    "\n",
    "    return moment"
   ]
  },
  {
   "cell_type": "code",
   "execution_count": 18,
   "id": "43965d90-934b-4674-86a4-7a7ea3482e60",
   "metadata": {},
   "outputs": [
    {
     "name": "stdout",
     "output_type": "stream",
     "text": [
      "🍺 YOUR MILLER MOMENT 🍺\n",
      "Beer: Miller Lite — The Breakup Buffer (4.20%% ABV, Milwaukee, WI)\n",
      "Swag: Miller Lite Dog Bowl — Comes with the water so you can stay hydrated.\n",
      "Song: Bottoms Up by Brantley Gilbert — https://open.spotify.com/track/3JvKfv6T31zO0ini8iNItO\n",
      "Image: images/swag/miller_lite_dog_bowl.jpg\n"
     ]
    }
   ],
   "source": [
    "from src.miller_moment import generate_miller_moment\n",
    "\n",
    "moment = generate_miller_moment(beers_df, swag_df, songs_df)\n",
    "\n",
    "print(\"🍺 YOUR MILLER MOMENT 🍺\")\n",
    "print(f\"Beer: {moment['beer']['name']} — {moment['beer']['tagline']} ({moment['beer']['abv']}% ABV, {moment['beer']['origin']})\")\n",
    "print(f\"Swag: {moment['swag']['name']} — {moment['swag']['description']}\")\n",
    "print(f\"Song: {moment['song']['title']} by {moment['song']['artist']} — {moment['song']['spotify_url']}\")\n",
    "print(f\"Image: {moment['swag']['image_path']}\")\n"
   ]
  },
  {
   "cell_type": "code",
   "execution_count": 19,
   "id": "8beb6586-ba42-413e-a001-a4a53754cb65",
   "metadata": {},
   "outputs": [
    {
     "name": "stdout",
     "output_type": "stream",
     "text": [
      "{'title': 'Bottoms Up', 'artist': 'Brantley Gilbert', 'spotify_url': 'https://open.spotify.com/track/3JvKfv6T31zO0ini8iNItO'}\n"
     ]
    }
   ],
   "source": [
    "print(moment['song'])"
   ]
  },
  {
   "cell_type": "code",
   "execution_count": null,
   "id": "5c09b2d2-887f-498f-9bb2-f2213e6ea238",
   "metadata": {},
   "outputs": [],
   "source": []
  }
 ],
 "metadata": {
  "kernelspec": {
   "display_name": "Python 3 (ipykernel)",
   "language": "python",
   "name": "python3"
  },
  "language_info": {
   "codemirror_mode": {
    "name": "ipython",
    "version": 3
   },
   "file_extension": ".py",
   "mimetype": "text/x-python",
   "name": "python",
   "nbconvert_exporter": "python",
   "pygments_lexer": "ipython3",
   "version": "3.13.3"
  }
 },
 "nbformat": 4,
 "nbformat_minor": 5
}
